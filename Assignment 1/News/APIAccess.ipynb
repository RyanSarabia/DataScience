{
 "cells": [
  {
   "cell_type": "markdown",
   "metadata": {},
   "source": [
    "### Getting info from Google News (NYTimes)\n"
   ]
  },
  {
   "cell_type": "code",
   "execution_count": null,
   "metadata": {},
   "outputs": [],
   "source": [
    "import http.client\n",
    "\n",
    "conn = http.client.HTTPSConnection(\"google-news.p.rapidapi.com\")\n",
    "\n",
    "headers = {\n",
    "    'x-rapidapi-key': \"83669c4ebamsh964bc077fea4c66p10dbedjsncb5951952abc\",\n",
    "    'x-rapidapi-host': \"google-news.p.rapidapi.com\"\n",
    "    }\n",
    "\n",
    "conn.request(\"GET\", \"/v1/source_search?source=nytimes.com&lang=en&country=US&from=2021-03-11&to=2021-03-12\", headers=headers)\n",
    "\n",
    "res = conn.getresponse()\n",
    "data = res.read()\n",
    "\n",
    "print(data.decode(\"utf-8\"))\n"
   ]
  },
  {
   "cell_type": "markdown",
   "metadata": {},
   "source": [
    "Since the full article is not included, the link is taken from the articles and will be opened in another cell"
   ]
  },
  {
   "cell_type": "code",
   "execution_count": null,
   "metadata": {},
   "outputs": [],
   "source": [
    "import json\n",
    "import requests\n",
    "\n",
    "jsonNews = json.loads(data.decode(\"utf-8\"))\n",
    "jsonNews = jsonNews.get('articles')\n",
    "links = []\n",
    "requestedLinks = []\n",
    "\n",
    "for i in range(len(jsonNews)):\n",
    "    links.append(jsonNews[i].get('link'))\n",
    "    temp = requests.get(links[i])\n",
    "    requestedLinks.append(temp.content)"
   ]
  },
  {
   "cell_type": "markdown",
   "metadata": {},
   "source": [
    "Here, BeautifulSoup is imported and is used to parse the content of the links"
   ]
  },
  {
   "cell_type": "code",
   "execution_count": null,
   "metadata": {},
   "outputs": [],
   "source": [
    "from bs4 import BeautifulSoup\n",
    "\n",
    "soup = []\n",
    "for i in range(len(links)):\n",
    "    soup.append(BeautifulSoup(requestedLinks[i], 'html.parser'))\n",
    "\n"
   ]
  },
  {
   "cell_type": "markdown",
   "metadata": {},
   "source": [
    "The needed info is taken from the initial requested data, and the authors and full article are scraped from the page in the link. The info is appended into an array of json objects."
   ]
  },
  {
   "cell_type": "code",
   "execution_count": null,
   "metadata": {},
   "outputs": [],
   "source": [
    "jsonNewsExtracted = []\n",
    "for i in range(len(jsonNews)):\n",
    "    date = jsonNews[i].get('published')\n",
    "    title = jsonNews[i].get('title')\n",
    "    allAuthors = \"\"\n",
    "    authors = soup[i].find_all(\"span\", itemprop=\"name\")\n",
    "    for i in range (len(authors)):\n",
    "        if i != len(authors)-1:\n",
    "            allAuthors = allAuthors + authors[i].text + ', '\n",
    "        else:\n",
    "            allAuthors = allAuthors + authors[i].text\n",
    "    try:\n",
    "        full_article = soup[i].find(id = 'story').find('section').text\n",
    "    except:\n",
    "        pass\n",
    "    jsonNewsExtracted.append({\n",
    "            \"date\": date,\n",
    "            \"title\": title,\n",
    "            \"full_article\": full_article,\n",
    "            \"authors\": allAuthors\n",
    "        })"
   ]
  },
  {
   "cell_type": "markdown",
   "metadata": {},
   "source": [
    "The json object array is exported as news.json"
   ]
  },
  {
   "cell_type": "code",
   "execution_count": null,
   "metadata": {},
   "outputs": [],
   "source": [
    "json_dump = json.dumps(jsonNewsExtracted, indent = 4) \n",
    "\n",
    "with open(\"news.json\", \"w\") as outfile:\n",
    "    outfile.write(json_dump)"
   ]
  }
 ],
 "metadata": {
  "kernelspec": {
   "display_name": "Python 3",
   "language": "python",
   "name": "python3"
  },
  "language_info": {
   "codemirror_mode": {
    "name": "ipython",
    "version": 3
   },
   "file_extension": ".py",
   "mimetype": "text/x-python",
   "name": "python",
   "nbconvert_exporter": "python",
   "pygments_lexer": "ipython3",
   "version": "3.7.6"
  }
 },
 "nbformat": 4,
 "nbformat_minor": 5
}
